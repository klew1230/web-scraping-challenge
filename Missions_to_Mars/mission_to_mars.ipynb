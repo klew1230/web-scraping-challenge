{
 "cells": [
  {
   "cell_type": "code",
   "execution_count": 1,
   "id": "8cc8e9e5",
   "metadata": {},
   "outputs": [],
   "source": [
    "# Dependencies\n",
    "import pandas as pd\n",
    "from bs4 import BeautifulSoup as bs\n",
    "from splinter import Browser"
   ]
  },
  {
   "cell_type": "code",
   "execution_count": 2,
   "id": "ff3e1b19",
   "metadata": {},
   "outputs": [],
   "source": [
    "# selenium 3\n",
    "from selenium import webdriver\n",
    "from webdriver_manager.microsoft import EdgeChromiumDriverManager\n",
    "\n",
    "# Setup splinter\n",
    "\n",
    "executable_path = {'executable_path': EdgeChromiumDriverManager().install()}\n",
    "browser = Browser('edge', **executable_path, headless=False)\n"
   ]
  },
  {
   "cell_type": "code",
   "execution_count": 3,
   "id": "5159e1a2",
   "metadata": {},
   "outputs": [],
   "source": [
    "# NASA Mars News"
   ]
  },
  {
   "cell_type": "code",
   "execution_count": 4,
   "id": "9e050f92",
   "metadata": {},
   "outputs": [],
   "source": [
    "# URL of page to be scraped\n",
    "url = 'https://redplanetscience.com/'\n",
    "\n",
    "browser.visit(url)\n",
    "\n",
    "html = browser.html\n",
    "soup = bs(html, 'html.parser')"
   ]
  },
  {
   "cell_type": "code",
   "execution_count": 5,
   "id": "01c22b56",
   "metadata": {},
   "outputs": [
    {
     "name": "stdout",
     "output_type": "stream",
     "text": [
      "-----------------\n",
      "Independent Review Indicates NASA Prepared for Mars Sample Return Campaign\n",
      "NASA released an independent review report Tuesday indicating the agency is well positioned for its Mars Sample Return campaign to bring pristine samples from Mars to Earth for scientific study.\n"
     ]
    }
   ],
   "source": [
    "# Retrieve the parent divs for all articles\n",
    "results = soup.find_all('div', class_='list_text')[0]\n",
    "\n",
    "news_title = results.find('div', class_='content_title').text\n",
    "\n",
    "news_p = results.find('div', class_='article_teaser_body').text\n",
    "\n",
    "print('-----------------')\n",
    "print(news_title)\n",
    "print(news_p)"
   ]
  },
  {
   "cell_type": "code",
   "execution_count": 6,
   "id": "08e90c9a",
   "metadata": {},
   "outputs": [],
   "source": [
    "# JPL Mars Space Images - Featured Image"
   ]
  },
  {
   "cell_type": "code",
   "execution_count": 7,
   "id": "6c74fb93",
   "metadata": {},
   "outputs": [
    {
     "name": "stdout",
     "output_type": "stream",
     "text": [
      "https://spaceimages-mars.com/image/featured/mars2.jpg\n"
     ]
    }
   ],
   "source": [
    "# Setup splinter\n",
    "executable_path = {'executable_path': EdgeChromiumDriverManager().install()}\n",
    "browser = Browser('edge', **executable_path, headless=False)\n",
    "\n",
    "url = 'https://spaceimages-mars.com/'\n",
    "\n",
    "browser.visit(url)\n",
    "\n",
    "browser.links.find_by_partial_text('FULL IMAGE').click()\n",
    "\n",
    "# why do I have to do this again?\n",
    "html = browser.html\n",
    "soup = bs(html, 'html.parser')\n",
    "\n",
    "\n",
    "fancy_image = soup.find('img', class_='fancybox-image')['src']\n",
    "fancy_image = url + fancy_image\n",
    "print(fancy_image)"
   ]
  },
  {
   "cell_type": "code",
   "execution_count": 8,
   "id": "971d67c2",
   "metadata": {},
   "outputs": [
    {
     "name": "stdout",
     "output_type": "stream",
     "text": [
      "                         0                1                2\n",
      "0  Mars - Earth Comparison             Mars            Earth\n",
      "1                Diameter:         6,779 km        12,742 km\n",
      "2                    Mass:  6.39 × 10^23 kg  5.97 × 10^24 kg\n",
      "3                   Moons:                2                1\n",
      "4       Distance from Sun:   227,943,824 km   149,598,262 km\n",
      "5          Length of Year:   687 Earth days      365.24 days\n",
      "6             Temperature:     -87 to -5 °C      -88 to 58°C\n"
     ]
    }
   ],
   "source": [
    "# URL of page to be scraped\n",
    "url = 'https://galaxyfacts-mars.com/'\n",
    "\n",
    "\n",
    "mfv = pd.read_html(url)[0]\n",
    "mars_facts = mfv.to_html()\n",
    "print(mfv)"
   ]
  },
  {
   "cell_type": "code",
   "execution_count": 9,
   "id": "f22b8485",
   "metadata": {},
   "outputs": [],
   "source": [
    "# URL of page to be scraped\n",
    "url = 'https://marshemispheres.com/'\n",
    "\n",
    "# Make empty list\n",
    "hemisphere_image_urls = []\n",
    "\n",
    "# Visit website for images\n",
    "# Image 1\n",
    "browser.visit(url)\n",
    "browser.links.find_by_partial_text('Enhanced')[0].click()\n",
    "html = browser.html\n",
    "soup = bs(html, 'html.parser')\n",
    "\n",
    "down = soup.find('div', class_='downloads')\n",
    "hemi = down.find('a')['href']\n",
    "hemi = url + hemi\n",
    "title = soup.find('h2', class_='title').text\n",
    "dict = {\n",
    "    'title': title,\n",
    "    'img_url': hemi\n",
    "}\n",
    "hemisphere_image_urls.append(dict)\n",
    "\n",
    "browser.back()"
   ]
  },
  {
   "cell_type": "code",
   "execution_count": 10,
   "id": "64c48f0b",
   "metadata": {},
   "outputs": [],
   "source": [
    "# Image 2\n",
    "browser.links.find_by_partial_text('Enhanced')[1].click()\n",
    "html = browser.html\n",
    "soup = bs(html, 'html.parser')\n",
    "\n",
    "down = soup.find('div', class_='downloads')\n",
    "hemi = down.find('a')['href']\n",
    "hemi = url + hemi\n",
    "title = soup.find('h2', class_='title').text\n",
    "dict = {\n",
    "    'title': title,\n",
    "    'img_url': hemi\n",
    "}\n",
    "hemisphere_image_urls.append(dict)\n",
    "\n",
    "browser.back()\n",
    "\n"
   ]
  },
  {
   "cell_type": "code",
   "execution_count": 11,
   "id": "aa8029d7",
   "metadata": {},
   "outputs": [],
   "source": [
    "# Image 3\n",
    "browser.links.find_by_partial_text('Enhanced')[2].click()\n",
    "html = browser.html\n",
    "soup = bs(html, 'html.parser')\n",
    "\n",
    "down = soup.find('div', class_='downloads')\n",
    "hemi = down.find('a')['href']\n",
    "hemi = url + hemi\n",
    "title = soup.find('h2', class_='title').text\n",
    "dict = {\n",
    "    'title': title,\n",
    "    'img_url': hemi\n",
    "}\n",
    "hemisphere_image_urls.append(dict)\n",
    "\n",
    "browser.back()"
   ]
  },
  {
   "cell_type": "code",
   "execution_count": 12,
   "id": "e29c74b3",
   "metadata": {},
   "outputs": [],
   "source": [
    "# Image 4\n",
    "browser.links.find_by_partial_text('Enhanced')[3].click()\n",
    "html = browser.html\n",
    "soup = bs(html, 'html.parser')\n",
    "\n",
    "down = soup.find('div', class_='downloads')\n",
    "hemi = down.find('a')['href']\n",
    "hemi = url + hemi\n",
    "title = soup.find('h2', class_='title').text\n",
    "dict = {\n",
    "    'title': title,\n",
    "    'img_url': hemi\n",
    "}\n",
    "hemisphere_image_urls.append(dict)\n",
    "\n",
    "browser.back()"
   ]
  },
  {
   "cell_type": "code",
   "execution_count": 13,
   "id": "6656f31f",
   "metadata": {},
   "outputs": [
    {
     "name": "stdout",
     "output_type": "stream",
     "text": [
      "[{'title': 'Cerberus Hemisphere Enhanced', 'img_url': 'https://marshemispheres.com/images/full.jpg'}, {'title': 'Schiaparelli Hemisphere Enhanced', 'img_url': 'https://marshemispheres.com/images/schiaparelli_enhanced-full.jpg'}, {'title': 'Syrtis Major Hemisphere Enhanced', 'img_url': 'https://marshemispheres.com/images/syrtis_major_enhanced-full.jpg'}, {'title': 'Valles Marineris Hemisphere Enhanced', 'img_url': 'https://marshemispheres.com/images/valles_marineris_enhanced-full.jpg'}]\n"
     ]
    }
   ],
   "source": [
    "print(hemisphere_image_urls)"
   ]
  }
 ],
 "metadata": {
  "kernelspec": {
   "display_name": "Python 3 (ipykernel)",
   "language": "python",
   "name": "python3"
  },
  "language_info": {
   "codemirror_mode": {
    "name": "ipython",
    "version": 3
   },
   "file_extension": ".py",
   "mimetype": "text/x-python",
   "name": "python",
   "nbconvert_exporter": "python",
   "pygments_lexer": "ipython3",
   "version": "3.9.12"
  }
 },
 "nbformat": 4,
 "nbformat_minor": 5
}
