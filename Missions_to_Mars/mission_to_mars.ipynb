{
 "cells": [
  {
   "cell_type": "code",
   "execution_count": null,
   "id": "39d81f16",
   "metadata": {},
   "outputs": [],
   "source": [
    "# Dependencies\n",
    "import pandas as pd\n",
    "from bs4 import BeautifulSoup as bs\n",
    "from webdriver_manager.chrome import ChromeDriverManager\n",
    "from splinter import Browser"
   ]
  },
  {
   "cell_type": "code",
   "execution_count": null,
   "id": "efff7d07",
   "metadata": {},
   "outputs": [],
   "source": [
    "# Setup splinter\n",
    "executable_path = {'executable_path': ChromeDriverManager().install()}\n",
    "browser = Browser('chrome', **executable_path, headless=False)"
   ]
  },
  {
   "cell_type": "code",
   "execution_count": null,
   "id": "b5c70ed9",
   "metadata": {},
   "outputs": [],
   "source": [
    "# URL of page to be scraped\n",
    "url = 'https://redplanetscience.com/'\n",
    "\n",
    "browser.visit(url)\n",
    "\n",
    "html = browser.html\n",
    "soup = bs(html, 'html.parser')"
   ]
  },
  {
   "cell_type": "code",
   "execution_count": null,
   "id": "e2bdfd6f",
   "metadata": {},
   "outputs": [],
   "source": [
    "# Retrieve the parent divs for all articles\n",
    "results = soup.find_all('div', class_='list_text')[0]\n",
    "\n",
    "news_title = results.find('div', class_='content_title').text\n",
    "\n",
    "news_p = results.find('div', class_='article_teaser_body').text\n",
    "\n",
    "print('-----------------')\n",
    "print(news_title)\n",
    "print(news_p)"
   ]
  },
  {
   "cell_type": "code",
   "execution_count": null,
   "id": "fb13bebe",
   "metadata": {},
   "outputs": [],
   "source": [
    "# Setup splinter\n",
    "executable_path = {'executable_path': ChromeDriverManager().install()}\n",
    "browser = Browser('chrome', **executable_path, headless=False)\n",
    "\n",
    "url = 'https://spaceimages-mars.com/'\n",
    "\n",
    "browser.visit(url)\n",
    "\n",
    "browser.links.find_by_partial_text('FULL IMAGE').click()\n",
    "\n",
    "# why do I have to do this again?\n",
    "html = browser.html\n",
    "soup = bs(html, 'html.parser')\n",
    "\n",
    "\n",
    "fancy_image = soup.find('img', class_='fancybox-image')['src']\n",
    "fancy_image = url + fancy_image\n",
    "print(fancy_image)"
   ]
  },
  {
   "cell_type": "code",
   "execution_count": null,
   "id": "992d620c",
   "metadata": {},
   "outputs": [],
   "source": [
    "# URL of page to be scraped\n",
    "url = 'https://galaxyfacts-mars.com/'\n",
    "\n",
    "\n",
    "mfv = pd.read_html(url)[0]\n",
    "mars_facts = mfv.to_html()\n",
    "print(mfv)"
   ]
  },
  {
   "cell_type": "code",
   "execution_count": null,
   "id": "abc94dd9",
   "metadata": {},
   "outputs": [],
   "source": [
    "# URL of page to be scraped\n",
    "url = 'https://marshemispheres.com/'\n",
    "\n",
    "# Make empty list\n",
    "hemisphere_image_urls = []\n",
    "\n",
    "# Visit website for images\n",
    "# Image 1\n",
    "browser.visit(url)\n",
    "browser.links.find_by_partial_text('Enhanced')[0].click()\n",
    "html = browser.html\n",
    "soup = bs(html, 'html.parser')\n",
    "\n",
    "down = soup.find('div', class_='downloads')\n",
    "hemi = down.find('a')['href']\n",
    "hemi = url + hemi\n",
    "title = soup.find('h2', class_='title').text\n",
    "dict = {\n",
    "    'title': title,\n",
    "    'img_url': hemi\n",
    "}\n",
    "hemisphere_image_urls.append(dict)\n",
    "\n",
    "browser.back()\n",
    "\n",
    "# Image 2\n",
    "browser.links.find_by_partial_text('Enhanced')[1].click()\n",
    "html = browser.html\n",
    "soup = bs(html, 'html.parser')\n",
    "\n",
    "down = soup.find('div', class_='downloads')\n",
    "hemi = down.find('a')['href']\n",
    "hemi = url + hemi\n",
    "title = soup.find('h2', class_='title').text\n",
    "dict = {\n",
    "    'title': title,\n",
    "    'img_url': hemi\n",
    "}\n",
    "hemisphere_image_urls.append(dict)\n",
    "\n",
    "browser.back()\n",
    "\n",
    "# Image 3\n",
    "browser.links.find_by_partial_text('Enhanced')[2].click()\n",
    "html = browser.html\n",
    "soup = bs(html, 'html.parser')\n",
    "\n",
    "down = soup.find('div', class_='downloads')\n",
    "hemi = down.find('a')['href']\n",
    "hemi = url + hemi\n",
    "title = soup.find('h2', class_='title').text\n",
    "dict = {\n",
    "    'title': title,\n",
    "    'img_url': hemi\n",
    "}\n",
    "hemisphere_image_urls.append(dict)\n",
    "\n",
    "browser.back()\n",
    "\n",
    "# Image 4\n",
    "browser.links.find_by_partial_text('Enhanced')[3].click()\n",
    "html = browser.html\n",
    "soup = bs(html, 'html.parser')\n",
    "\n",
    "down = soup.find('div', class_='downloads')\n",
    "hemi = down.find('a')['href']\n",
    "hemi = url + hemi\n",
    "title = soup.find('h2', class_='title').text\n",
    "dict = {\n",
    "    'title': title,\n",
    "    'img_url': hemi\n",
    "}\n",
    "hemisphere_image_urls.append(dict)\n",
    "\n",
    "browser.back()\n",
    "\n",
    "print(hemisphere_image_urls)"
   ]
  },
  {
   "cell_type": "code",
   "execution_count": null,
   "id": "2efa1aae",
   "metadata": {},
   "outputs": [],
   "source": []
  },
  {
   "cell_type": "code",
   "execution_count": null,
   "id": "231c7ce3",
   "metadata": {},
   "outputs": [],
   "source": []
  },
  {
   "cell_type": "code",
   "execution_count": null,
   "id": "6883dde6",
   "metadata": {},
   "outputs": [],
   "source": []
  },
  {
   "cell_type": "code",
   "execution_count": null,
   "id": "52ccc761",
   "metadata": {},
   "outputs": [],
   "source": []
  },
  {
   "cell_type": "code",
   "execution_count": null,
   "id": "16998c5f",
   "metadata": {},
   "outputs": [],
   "source": []
  },
  {
   "cell_type": "code",
   "execution_count": null,
   "id": "62c1472a",
   "metadata": {},
   "outputs": [],
   "source": []
  },
  {
   "cell_type": "code",
   "execution_count": null,
   "id": "5371d205",
   "metadata": {},
   "outputs": [],
   "source": []
  },
  {
   "cell_type": "code",
   "execution_count": null,
   "id": "fcc250f2",
   "metadata": {},
   "outputs": [],
   "source": []
  },
  {
   "cell_type": "code",
   "execution_count": null,
   "id": "b5afd601",
   "metadata": {},
   "outputs": [],
   "source": []
  },
  {
   "cell_type": "code",
   "execution_count": null,
   "id": "a1410746",
   "metadata": {},
   "outputs": [],
   "source": []
  },
  {
   "cell_type": "code",
   "execution_count": null,
   "id": "5ce971b2",
   "metadata": {},
   "outputs": [],
   "source": []
  },
  {
   "cell_type": "code",
   "execution_count": null,
   "id": "8ef29fd2",
   "metadata": {},
   "outputs": [],
   "source": []
  },
  {
   "cell_type": "code",
   "execution_count": null,
   "id": "30e70eb6",
   "metadata": {},
   "outputs": [],
   "source": []
  }
 ],
 "metadata": {
  "kernelspec": {
   "display_name": "Python 3 (ipykernel)",
   "language": "python",
   "name": "python3"
  },
  "language_info": {
   "codemirror_mode": {
    "name": "ipython",
    "version": 3
   },
   "file_extension": ".py",
   "mimetype": "text/x-python",
   "name": "python",
   "nbconvert_exporter": "python",
   "pygments_lexer": "ipython3",
   "version": "3.9.12"
  }
 },
 "nbformat": 4,
 "nbformat_minor": 5
}
