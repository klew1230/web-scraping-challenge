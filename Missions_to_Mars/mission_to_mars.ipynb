{
 "cells": [
  {
   "cell_type": "code",
   "execution_count": 1,
   "id": "7080ffe5",
   "metadata": {},
   "outputs": [],
   "source": [
    "# Dependencies\n",
    "import pandas as pd\n",
    "from bs4 import BeautifulSoup as bs\n",
    "from splinter import Browser"
   ]
  },
  {
   "cell_type": "code",
   "execution_count": 2,
   "id": "ad3d1f63",
   "metadata": {},
   "outputs": [],
   "source": [
    "# selenium 3\n",
    "from selenium import webdriver\n",
    "from webdriver_manager.microsoft import EdgeChromiumDriverManager\n",
    "\n",
    "executable_path = {'executable_path': EdgeChromiumDriverManager().install()}\n",
    "browser = Browser('edge', **executable_path, headless=False)\n"
   ]
  },
  {
   "cell_type": "code",
   "execution_count": null,
   "id": "da077bb4",
   "metadata": {},
   "outputs": [],
   "source": [
    "NASA Mars News"
   ]
  },
  {
   "cell_type": "code",
   "execution_count": 3,
   "id": "32a28a15",
   "metadata": {},
   "outputs": [],
   "source": [
    "# URL of page to be scraped\n",
    "url = 'https://redplanetscience.com/'\n",
    "\n",
    "browser.visit(url)\n",
    "\n",
    "html = browser.html\n",
    "soup = bs(html, 'html.parser')"
   ]
  },
  {
   "cell_type": "code",
   "execution_count": 4,
   "id": "eb6ae18c",
   "metadata": {},
   "outputs": [
    {
     "name": "stdout",
     "output_type": "stream",
     "text": [
      "-----------------\n",
      "NASA Adds Return Sample Scientists to Mars 2020 Leadership Team\n",
      "The leadership council for Mars 2020 science added two new members who represent the interests of scientists destined to handle and study the first samples from Red Planet.\n"
     ]
    }
   ],
   "source": [
    "# Retrieve the parent divs for all articles\n",
    "results = soup.find_all('div', class_='list_text')[0]\n",
    "\n",
    "news_title = results.find('div', class_='content_title').text\n",
    "\n",
    "news_p = results.find('div', class_='article_teaser_body').text\n",
    "\n",
    "print('-----------------')\n",
    "print(news_title)\n",
    "print(news_p)"
   ]
  },
  {
   "cell_type": "code",
   "execution_count": null,
   "id": "7ecdf6a7",
   "metadata": {},
   "outputs": [],
   "source": [
    "JPL Mars Space Images - Featured Image"
   ]
  },
  {
   "cell_type": "code",
   "execution_count": null,
   "id": "500f3577",
   "metadata": {},
   "outputs": [],
   "source": [
    "# URL of page to be scraped\n",
    "url = 'https://galaxyfacts-mars.com/'\n",
    "\n",
    "\n",
    "mfv = pd.read_html(url)[0]\n",
    "mars_facts = mfv.to_html()\n",
    "print(mfv)"
   ]
  },
  {
   "cell_type": "code",
   "execution_count": null,
   "id": "ad9503ca",
   "metadata": {},
   "outputs": [],
   "source": [
    "# URL of page to be scraped\n",
    "url = 'https://marshemispheres.com/'\n",
    "\n",
    "# Make empty list\n",
    "hemisphere_image_urls = []\n",
    "\n",
    "# Visit website for images\n",
    "# Image 1\n",
    "browser.visit(url)\n",
    "browser.links.find_by_partial_text('Enhanced')[0].click()\n",
    "html = browser.html\n",
    "soup = bs(html, 'html.parser')\n",
    "\n",
    "down = soup.find('div', class_='downloads')\n",
    "hemi = down.find('a')['href']\n",
    "hemi = url + hemi\n",
    "title = soup.find('h2', class_='title').text\n",
    "dict = {\n",
    "    'title': title,\n",
    "    'img_url': hemi\n",
    "}\n",
    "hemisphere_image_urls.append(dict)\n",
    "\n",
    "browser.back()"
   ]
  },
  {
   "cell_type": "code",
   "execution_count": null,
   "id": "31b4c48e",
   "metadata": {},
   "outputs": [],
   "source": [
    "# Image 2\n",
    "browser.links.find_by_partial_text('Enhanced')[1].click()\n",
    "html = browser.html\n",
    "soup = bs(html, 'html.parser')\n",
    "\n",
    "down = soup.find('div', class_='downloads')\n",
    "hemi = down.find('a')['href']\n",
    "hemi = url + hemi\n",
    "title = soup.find('h2', class_='title').text\n",
    "dict = {\n",
    "    'title': title,\n",
    "    'img_url': hemi\n",
    "}\n",
    "hemisphere_image_urls.append(dict)\n",
    "\n",
    "browser.back()\n",
    "\n"
   ]
  },
  {
   "cell_type": "code",
   "execution_count": null,
   "id": "2c08ac79",
   "metadata": {},
   "outputs": [],
   "source": [
    "# Image 3\n",
    "browser.links.find_by_partial_text('Enhanced')[2].click()\n",
    "html = browser.html\n",
    "soup = bs(html, 'html.parser')\n",
    "\n",
    "down = soup.find('div', class_='downloads')\n",
    "hemi = down.find('a')['href']\n",
    "hemi = url + hemi\n",
    "title = soup.find('h2', class_='title').text\n",
    "dict = {\n",
    "    'title': title,\n",
    "    'img_url': hemi\n",
    "}\n",
    "hemisphere_image_urls.append(dict)\n",
    "\n",
    "browser.back()"
   ]
  },
  {
   "cell_type": "code",
   "execution_count": null,
   "id": "9c9aa683",
   "metadata": {},
   "outputs": [],
   "source": [
    "# Image 4\n",
    "browser.links.find_by_partial_text('Enhanced')[3].click()\n",
    "html = browser.html\n",
    "soup = bs(html, 'html.parser')\n",
    "\n",
    "down = soup.find('div', class_='downloads')\n",
    "hemi = down.find('a')['href']\n",
    "hemi = url + hemi\n",
    "title = soup.find('h2', class_='title').text\n",
    "dict = {\n",
    "    'title': title,\n",
    "    'img_url': hemi\n",
    "}\n",
    "hemisphere_image_urls.append(dict)\n",
    "\n",
    "browser.back()"
   ]
  },
  {
   "cell_type": "code",
   "execution_count": null,
   "id": "7341d0c2",
   "metadata": {},
   "outputs": [],
   "source": [
    "print(hemisphere_image_urls)"
   ]
  }
 ],
 "metadata": {
  "kernelspec": {
   "display_name": "Python 3 (ipykernel)",
   "language": "python",
   "name": "python3"
  },
  "language_info": {
   "codemirror_mode": {
    "name": "ipython",
    "version": 3
   },
   "file_extension": ".py",
   "mimetype": "text/x-python",
   "name": "python",
   "nbconvert_exporter": "python",
   "pygments_lexer": "ipython3",
   "version": "3.9.12"
  }
 },
 "nbformat": 4,
 "nbformat_minor": 5
}
